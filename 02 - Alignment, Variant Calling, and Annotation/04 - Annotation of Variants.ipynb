{
 "cells": [
  {
   "cell_type": "markdown",
   "metadata": {},
   "source": [
    "# Annotation of Variants\n",
    "\n",
    "We have uncovered variants that differ from the reference genome, but we do not know if the variants affect genes/regions in the genome that may explain a disease or a phenotype.\n",
    "\n",
    "![](images/workflow-annotate.png)\n",
    "\n",
    "To do this, we will annotate the VCF file by using a tool called `SnpEff/SnpSift`\n",
    "\n",
    "http://snpeff.sourceforge.net\n",
    "\n",
    "We will be using the SnpSift tool specifically to compare our variants against another variant database. Running `SnpSift` will give us the options available"
   ]
  },
  {
   "cell_type": "code",
   "execution_count": null,
   "metadata": {},
   "outputs": [],
   "source": [
    "SnpSift"
   ]
  },
  {
   "cell_type": "markdown",
   "metadata": {},
   "source": [
    "We will first take a look at the list of files again:"
   ]
  },
  {
   "cell_type": "code",
   "execution_count": null,
   "metadata": {
    "collapsed": false,
    "jupyter": {
     "outputs_hidden": false
    }
   },
   "outputs": [],
   "source": [
    "ls -lh"
   ]
  },
  {
   "cell_type": "markdown",
   "metadata": {},
   "source": [
    "We will annotate the VCF file against the ClinVar database\n",
    "\n",
    "https://www.ncbi.nlm.nih.gov/pmc/articles/PMC5753237/\n",
    "\n",
    "This resource aggregates data from various laboratories and expert panels about the interpretation of variants\n",
    "\n",
    "We will download the GRCh38 version as our read were mapped to the GRCh38 version of chromosome 5 https://www.ncbi.nlm.nih.gov/variation/docs/ClinVar_vcf_files/\n"
   ]
  },
  {
   "cell_type": "code",
   "execution_count": null,
   "metadata": {},
   "outputs": [],
   "source": [
    "wget https://ftp.ncbi.nlm.nih.gov/pub/clinvar/vcf_GRCh38/clinvar.vcf.gz\n",
    "wget https://ftp.ncbi.nlm.nih.gov/pub/clinvar/vcf_GRCh38/clinvar.vcf.gz.tbi"
   ]
  },
  {
   "cell_type": "markdown",
   "metadata": {},
   "source": [
    "Before we annotate the VCF file, we can filter the list of variant by the quality `QUAL`. Conventionally, we can choose those that are >30 using SnpSift"
   ]
  },
  {
   "cell_type": "code",
   "execution_count": null,
   "metadata": {},
   "outputs": [],
   "source": [
    "SnpSift filter \"( QUAL >= 30 )\" result.vcf > result.filter.vcf"
   ]
  },
  {
   "cell_type": "markdown",
   "metadata": {},
   "source": [
    "We can now annotate our VCF against the ClinVar VCF database using `SnpSift`"
   ]
  },
  {
   "cell_type": "code",
   "execution_count": null,
   "metadata": {},
   "outputs": [],
   "source": [
    "SnpSift annotate -v clinvar.vcf.gz result.filter.vcf > result.filter.annotate.vcf"
   ]
  },
  {
   "cell_type": "markdown",
   "metadata": {},
   "source": [
    "# Taking a look at the annotated variant file\n",
    "\n",
    "![](images/clinvar.png)"
   ]
  },
  {
   "cell_type": "code",
   "execution_count": null,
   "metadata": {},
   "outputs": [],
   "source": [
    "cat result.filter.annotate.vcf"
   ]
  },
  {
   "cell_type": "markdown",
   "metadata": {},
   "source": [
    "The significance of a variant is classified into different tiers depending on the level of evidence\n",
    "- pathogenic\n",
    "- likely pathogenic\n",
    "- uncertain significance\n",
    "- likely benign\n",
    "- benign\n",
    "\n",
    "The recommendations and guidelines by the American College of Medical Genetics and Genomics and the Association for Molecular Pathology\n",
    "https://www.ncbi.nlm.nih.gov/pmc/articles/PMC4544753/\n",
    "\n",
    "We can look for annotations where the keyword `Pathogenic` is present"
   ]
  },
  {
   "cell_type": "code",
   "execution_count": null,
   "metadata": {},
   "outputs": [],
   "source": [
    "grep Pathogenic result.filter.annotate.vcf"
   ]
  },
  {
   "cell_type": "markdown",
   "metadata": {},
   "source": [
    "# Preparing the VCF file for visualization\n",
    "\n",
    "We can compress and index the VCF file so that it can be visualized using the IGV browser"
   ]
  },
  {
   "cell_type": "code",
   "execution_count": null,
   "metadata": {
    "collapsed": false,
    "jupyter": {
     "outputs_hidden": false
    }
   },
   "outputs": [],
   "source": [
    "bgzip -c result.filter.annotate.vcf > result.filter.annotate.vcf.gz\n",
    "tabix -p vcf result.filter.annotate.vcf.gz"
   ]
  },
  {
   "cell_type": "code",
   "execution_count": null,
   "metadata": {},
   "outputs": [],
   "source": [
    "ls -lh"
   ]
  },
  {
   "cell_type": "markdown",
   "metadata": {},
   "source": [
    "To visualize the aligned reads with the variants, we will need to download 4 files\n",
    "- mapped.dedup.sort.bam\n",
    "- mapped.dedup.sort.bam.bai\n",
    "- result.filter.annotate.vcf.gz\n",
    "- result.filter.annotate.vcf.gz.tbi\n",
    "\n",
    "We will import these into the IGV browser (GRCh38 human genome)\n",
    "\n",
    "![](images/igv-genome.png)\n",
    "![](images/igv-load.png)"
   ]
  },
  {
   "cell_type": "markdown",
   "metadata": {},
   "source": [
    "# Using a web tool (VarMap)\n",
    "\n",
    "We can also use a webtool to annotate a subset of variants and map it to a 3D structure of an affected protein (if available).\n",
    "\n",
    "![](images/varmap.png)\n",
    "\n",
    "https://academic.oup.com/bioinformatics/article/35/22/4854/5514476\n",
    "https://www.ebi.ac.uk/thornton-srv/databases/cgi-bin/DisaStr/GetPage.pl?varmap=TRUE"
   ]
  }
 ],
 "metadata": {
  "kernelspec": {
   "display_name": "Bash",
   "language": "bash",
   "name": "bash"
  },
  "language_info": {
   "codemirror_mode": "shell",
   "file_extension": ".sh",
   "mimetype": "text/x-sh",
   "name": "bash"
  }
 },
 "nbformat": 4,
 "nbformat_minor": 4
}
