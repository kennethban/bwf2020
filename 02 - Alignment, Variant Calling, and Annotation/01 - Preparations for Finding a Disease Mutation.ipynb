{
 "cells": [
  {
   "cell_type": "markdown",
   "metadata": {},
   "source": [
    "# Finding a disease mutation\n",
    "\n",
    "In this tutorial, we will identify a disease mutation from sequencing data of Dr James Lupski. https://www.nejm.org/doi/full/10.1056/NEJMoa0908094\n",
    "\n",
    "    \n",
    "<center><img src=\"https://signature.bcm.edu/images/uploaded/full/1449086752427.jpeg\" width=320></center>    \n",
    "\n",
    "<center>https://en.wikipedia.org/wiki/James_R._Lupski</center>\n",
    "\n",
    "\n",
    "## Overview of variant calling workflow:\n",
    "\n",
    "![](images/workflow.png)\n",
    "\n",
    "For this tutorial, we will use a smaller reference genome (chromosome 5) for quicker processing, and a small subset of the input DNA sequences from Dr Lupski."
   ]
  },
  {
   "cell_type": "markdown",
   "metadata": {},
   "source": [
    "Let's take a look at the contents of the directory"
   ]
  },
  {
   "cell_type": "code",
   "execution_count": null,
   "metadata": {
    "collapsed": false,
    "jupyter": {
     "outputs_hidden": false
    }
   },
   "outputs": [],
   "source": [
    "ls -lh"
   ]
  },
  {
   "cell_type": "markdown",
   "metadata": {},
   "source": [
    "Let us look at the 2 files that will be using\n",
    "\n",
    "- `chr5.fa` - the human reference genome (chromosome 5)\n",
    "- `input.fq` - the query sequences\n",
    "\n",
    "Note: We are using a trimmed down Illumina exome dataset of Dr. James Lupski (`SRR866988.sra`) which has a disease causing mutation on chromosome 5"
   ]
  },
  {
   "cell_type": "markdown",
   "metadata": {},
   "source": [
    "### Taking a peek at the reference fasta file"
   ]
  },
  {
   "cell_type": "code",
   "execution_count": null,
   "metadata": {
    "collapsed": false,
    "jupyter": {
     "outputs_hidden": false
    }
   },
   "outputs": [],
   "source": [
    "head chr5.fa"
   ]
  },
  {
   "cell_type": "markdown",
   "metadata": {},
   "source": [
    "The fasta format is quite simple. The first line is the identifier which starts with '>'\n",
    "\n",
    "The subsequent lines are DNA sequences. Here we see 'N's which means that the sequences are unknown."
   ]
  },
  {
   "cell_type": "markdown",
   "metadata": {},
   "source": [
    "We can also take a look at 10 lines of DNA sequence starting from the 100,000th line in the reference file. Here we use the `tail` command to list the lines starting from line number 100,0000 then pass it to the `head` command to show only 10 lines of the output from the tail command."
   ]
  },
  {
   "cell_type": "code",
   "execution_count": null,
   "metadata": {
    "collapsed": false,
    "jupyter": {
     "outputs_hidden": false
    }
   },
   "outputs": [],
   "source": [
    "tail -n+100000 chr5.fa | head -n 10 "
   ]
  },
  {
   "cell_type": "markdown",
   "metadata": {},
   "source": [
    "### Taking a look at the query sequence file (first 4 lines)"
   ]
  },
  {
   "cell_type": "code",
   "execution_count": null,
   "metadata": {
    "collapsed": false,
    "jupyter": {
     "outputs_hidden": false
    }
   },
   "outputs": [],
   "source": [
    "head -n4 input.fq"
   ]
  },
  {
   "cell_type": "markdown",
   "metadata": {},
   "source": [
    "### One sequence in a fastq file consists of 4 lines. \n",
    "\n",
    "- Line 1 - sequence identifier (starts with @)\n",
    "- Line 2 - DNA sequence\n",
    "- Line 3 - sequence identifier (starts with +)\n",
    "- Line 4 - corresponding quality score (Phred score 0-93 + 33)\n",
    "\n",
    "For the quality score, the following characters encode the lowest to highest scores\n",
    "\n",
    "<pre> !\"#$%&'()*+,-./0123456789:;<=>?@ABCDEFGHIJKLMNOPQRSTUVWXYZ[\\]^_`abcdefghijklmnopqrstuvwxyz{|}~ </pre>\n",
    "\n",
    "For more information, see https://en.wikipedia.org/wiki/FASTQ_format\n"
   ]
  },
  {
   "cell_type": "markdown",
   "metadata": {},
   "source": [
    "## Checking the quality of the FASTQ sequences\n",
    "\n",
    "It is a good practice to check the quality of the sequences by plotting the quality (Q) scores by the position. In general, a Q score of > 30 is good.\n",
    "\n",
    "To generate a plot, we will use `fastQC` (https://www.bioinformatics.babraham.ac.uk/projects/fastqc/)"
   ]
  },
  {
   "cell_type": "code",
   "execution_count": null,
   "metadata": {
    "collapsed": false,
    "jupyter": {
     "outputs_hidden": false
    }
   },
   "outputs": [],
   "source": [
    "fastqc input.fq"
   ]
  },
  {
   "cell_type": "code",
   "execution_count": null,
   "metadata": {
    "collapsed": false,
    "jupyter": {
     "outputs_hidden": false
    }
   },
   "outputs": [],
   "source": [
    "ls -lh"
   ]
  },
  {
   "cell_type": "markdown",
   "metadata": {},
   "source": [
    "We have now generated an HTML file that we can open to see the quality scores"
   ]
  },
  {
   "cell_type": "markdown",
   "metadata": {},
   "source": [
    "# Building the index for alignment\n",
    "\n",
    "![](images/workflow-index.png)\n",
    "\n",
    "Before we can align the query sequence, we need to build the index for alignment. In this case, we will be using the `chr5.fa` file\n",
    "\n",
    "One of the most popular programs for alignment is BWA (https://www.ncbi.nlm.nih.gov/pmc/articles/PMC2705234/)\n",
    "\n",
    "This alignment program makes use of an algorithm called Burrows-Wheeler transform to speed up the alignment process, allowing millions of sequences to be aligned to a reference genome in a reasonable amount of time.\n",
    "\n",
    "\n",
    "We will run `bwa` to see what the options are available"
   ]
  },
  {
   "cell_type": "code",
   "execution_count": null,
   "metadata": {},
   "outputs": [],
   "source": [
    "bwa"
   ]
  },
  {
   "cell_type": "markdown",
   "metadata": {},
   "source": [
    "Prior to the alignment, the reference genome must be indexed. This process may take several hours if indexing the full human genome (~4 GB), so we will use this smaller file to speed things up. In this case, we index only chromosome 5, as the disease mutation is located on this chromosome. "
   ]
  },
  {
   "cell_type": "code",
   "execution_count": null,
   "metadata": {},
   "outputs": [],
   "source": [
    "bwa index chr5.fa"
   ]
  },
  {
   "cell_type": "markdown",
   "metadata": {},
   "source": [
    "The indexing process generates several files (`.amb`, `.ann`, `.bwt`, `.pac`, `.sa`), prefixed by the name of the input reference file (in this case, `chr5.fa`)"
   ]
  },
  {
   "cell_type": "code",
   "execution_count": null,
   "metadata": {},
   "outputs": [],
   "source": [
    "ls -lh"
   ]
  },
  {
   "cell_type": "code",
   "execution_count": null,
   "metadata": {},
   "outputs": [],
   "source": []
  }
 ],
 "metadata": {
  "kernelspec": {
   "display_name": "Bash",
   "language": "bash",
   "name": "bash"
  },
  "language_info": {
   "codemirror_mode": "shell",
   "file_extension": ".sh",
   "mimetype": "text/x-sh",
   "name": "bash"
  }
 },
 "nbformat": 4,
 "nbformat_minor": 4
}
