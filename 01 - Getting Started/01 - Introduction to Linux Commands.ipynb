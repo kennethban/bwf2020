{
 "cells": [
  {
   "cell_type": "markdown",
   "metadata": {},
   "source": [
    "# Preamble: Basic Introduction to Linux"
   ]
  },
  {
   "cell_type": "markdown",
   "metadata": {},
   "source": [
    "## Listing the contents of a directory\n",
    "\n",
    "We start by looking at the contents of the Linux filesystem. To do this, we list the files contained within a directory by using the command `ls`."
   ]
  },
  {
   "cell_type": "code",
   "execution_count": null,
   "metadata": {
    "collapsed": false,
    "jupyter": {
     "outputs_hidden": false
    }
   },
   "outputs": [],
   "source": [
    "ls"
   ]
  },
  {
   "cell_type": "markdown",
   "metadata": {},
   "source": [
    "As you can see, the 'ls' command lists the files or directories present in the directory. However, we do not have details about the files/directories.\n",
    "\n",
    "To display more information, we can add options after the `ls` command:\n",
    "\n",
    "    -l long list format (show more detail)\n",
    "    -a show hidden files also (filenames starting with . in Linux are hidden)\n",
    "    -h show file sizes in human-readable format (e.g. KB, GB, TB)"
   ]
  },
  {
   "cell_type": "code",
   "execution_count": null,
   "metadata": {
    "collapsed": false,
    "jupyter": {
     "outputs_hidden": false
    }
   },
   "outputs": [],
   "source": [
    "ls -lh"
   ]
  },
  {
   "cell_type": "markdown",
   "metadata": {},
   "source": [
    "The long list option provides more information about files and directories. From left to right, the listing provides information about:\n",
    "\n",
    "    permissions  - (whether other can read/write/execute a file)\n",
    "    owner/group  - the name and group of the user of the file/directory\n",
    "    file size    - size of file in bytes\n",
    "    date/time    \n",
    "    filename\n",
    "    \n",
    "    \n",
    "Permissions specify who can read/write/execute a file (owner, group, others) with 3 options r/w/x. In addition, it also tell you if it is a directory    \n",
    "\n",
    "<img src=\"https://www.linuxnix.com/wp-content/uploads/2011/10/permissions_diagram.gif\">\n",
    "\n",
    "In this case, all the files have the permission setting or `-rw-rw-r--`\n",
    "\n",
    "- The first letter is '-' and not 'd' indicating that this is a file and not a directory\n",
    "- The next group of 3 specify the permissions for the owner. In this case 'rw-' mean read/write access\n",
    "- The 2nd group of 3 specify permissions for a group. 'rw-' means read/write access\n",
    "- The 3rd group of 3 specify permissions for all others. 'r--' means only read access"
   ]
  },
  {
   "cell_type": "markdown",
   "metadata": {},
   "source": [
    "## Finding out where we are\n",
    "\n",
    "File and directories are organized in a hierarchical structure, starting with `/`\n",
    "\n",
    "For example:\n",
    "\n",
    "<img src=\"https://www.codepuppet.com/wp-content/uploads/2012/06/linux_directory_structure.png\" width=640>\n",
    "\n",
    "Let's find out where are we in the directory structure by using the `pwd` command\n"
   ]
  },
  {
   "cell_type": "code",
   "execution_count": null,
   "metadata": {
    "collapsed": false,
    "jupyter": {
     "outputs_hidden": false
    }
   },
   "outputs": [],
   "source": [
    "pwd"
   ]
  },
  {
   "cell_type": "markdown",
   "metadata": {},
   "source": [
    "## Creating, changing and deleting directories\n",
    "\n",
    "We can make directories or folders to organize and store our files.\n",
    "\n",
    "Here, let's make a directory called `mkdir` using the command mkdir (short for make directory)"
   ]
  },
  {
   "cell_type": "code",
   "execution_count": null,
   "metadata": {
    "collapsed": false,
    "jupyter": {
     "outputs_hidden": false
    }
   },
   "outputs": [],
   "source": [
    "mkdir mydir"
   ]
  },
  {
   "cell_type": "markdown",
   "metadata": {},
   "source": [
    "Let's see the listing again using `ls -l`"
   ]
  },
  {
   "cell_type": "code",
   "execution_count": null,
   "metadata": {
    "collapsed": false,
    "jupyter": {
     "outputs_hidden": false
    }
   },
   "outputs": [],
   "source": [
    "ls -lh"
   ]
  },
  {
   "cell_type": "markdown",
   "metadata": {},
   "source": [
    "We can see that now we have a new listing called `mydir` and the permissions are `drwxr-xr-x` The first character in the permissions is `d` indicating that this is a directory.\n",
    "\n",
    "Having created the directory, we can enter it to look around using the command `cd` (for change directory)"
   ]
  },
  {
   "cell_type": "code",
   "execution_count": null,
   "metadata": {
    "collapsed": false,
    "jupyter": {
     "outputs_hidden": false
    }
   },
   "outputs": [],
   "source": [
    "cd mydir"
   ]
  },
  {
   "cell_type": "code",
   "execution_count": null,
   "metadata": {
    "collapsed": false,
    "jupyter": {
     "outputs_hidden": false
    }
   },
   "outputs": [],
   "source": [
    "ls -l"
   ]
  },
  {
   "cell_type": "markdown",
   "metadata": {},
   "source": [
    "No surprise we have an empty directory since it's newly created. We can add/delete files inside this directory. For example let us use the command `touch` to make an empty file."
   ]
  },
  {
   "cell_type": "code",
   "execution_count": null,
   "metadata": {
    "collapsed": false,
    "jupyter": {
     "outputs_hidden": false
    }
   },
   "outputs": [],
   "source": [
    "touch myfile"
   ]
  },
  {
   "cell_type": "code",
   "execution_count": null,
   "metadata": {
    "collapsed": false,
    "jupyter": {
     "outputs_hidden": false
    }
   },
   "outputs": [],
   "source": [
    "ls -l"
   ]
  },
  {
   "cell_type": "markdown",
   "metadata": {},
   "source": [
    "Let's now get out of the directory by typing `cd ..`\n",
    "\n",
    "The `..` characters mean to go up one level (like backtracking)."
   ]
  },
  {
   "cell_type": "code",
   "execution_count": null,
   "metadata": {
    "collapsed": false,
    "jupyter": {
     "outputs_hidden": false
    }
   },
   "outputs": [],
   "source": [
    "cd .."
   ]
  },
  {
   "cell_type": "code",
   "execution_count": null,
   "metadata": {
    "collapsed": false,
    "jupyter": {
     "outputs_hidden": false
    }
   },
   "outputs": [],
   "source": [
    "ls -lh"
   ]
  },
  {
   "cell_type": "markdown",
   "metadata": {},
   "source": [
    "We are now back out of `mydir`\n",
    "\n",
    "We can also list the contents of a directory by typing `ls -l <name of directory>`"
   ]
  },
  {
   "cell_type": "code",
   "execution_count": null,
   "metadata": {
    "collapsed": false,
    "jupyter": {
     "outputs_hidden": false
    }
   },
   "outputs": [],
   "source": [
    "ls -l mydir"
   ]
  },
  {
   "cell_type": "markdown",
   "metadata": {},
   "source": [
    "Let us see how we can delete a directory using the command 'rmdir' (for remove directory)"
   ]
  },
  {
   "cell_type": "code",
   "execution_count": null,
   "metadata": {
    "collapsed": false,
    "jupyter": {
     "outputs_hidden": false
    }
   },
   "outputs": [],
   "source": [
    "rmdir mydir"
   ]
  },
  {
   "cell_type": "markdown",
   "metadata": {},
   "source": [
    "Oops! We cannot remove the directory if it contains file. To delete the directory we need to delete any files within the directory using the command `rm` (for remove)\n",
    "\n",
    "**Be very careful with the `rm` command as a delete function in Linux does not have an undo function.**\n",
    "\n",
    "We can remove the file we created in the directory in 2 ways:\n",
    "\n",
    "1. change into mydir, remove the file, move out of mydir\n",
    "2. remove the file within mydir by referring to the path\n",
    "\n",
    "Let us use the 2nd method."
   ]
  },
  {
   "cell_type": "code",
   "execution_count": null,
   "metadata": {
    "collapsed": false,
    "jupyter": {
     "outputs_hidden": false
    }
   },
   "outputs": [],
   "source": [
    "rm mydir/myfile"
   ]
  },
  {
   "cell_type": "code",
   "execution_count": null,
   "metadata": {
    "collapsed": false,
    "jupyter": {
     "outputs_hidden": false
    }
   },
   "outputs": [],
   "source": [
    "ls -l mydir"
   ]
  },
  {
   "cell_type": "markdown",
   "metadata": {},
   "source": [
    "Now that the directory is empty, we can remove it."
   ]
  },
  {
   "cell_type": "code",
   "execution_count": null,
   "metadata": {
    "collapsed": false,
    "jupyter": {
     "outputs_hidden": false
    }
   },
   "outputs": [],
   "source": [
    "rmdir mydir"
   ]
  },
  {
   "cell_type": "code",
   "execution_count": null,
   "metadata": {
    "collapsed": false,
    "jupyter": {
     "outputs_hidden": false
    }
   },
   "outputs": [],
   "source": [
    "ls -l"
   ]
  },
  {
   "cell_type": "markdown",
   "metadata": {},
   "source": [
    "# Input/Output and Redirection/Piping\n",
    "\n",
    "Next, let us look at how input and output is used in Linux and how we can redirect the output to another program or to a file\n",
    "\n",
    "The input from the keyboard or another program is called `stdin` (standard in). This input can be processed by a program and this will generate a `stdout` (standard out) as well as a `stderr` (standard error).\n",
    "\n",
    "NOTE: The `stdout` from a program can either be redirected into a file via the `>` redirection operator, or passed on to another program using the `|` pipe operator.\n",
    "\n",
    "![](images/stdinout.png)"
   ]
  },
  {
   "cell_type": "markdown",
   "metadata": {},
   "source": [
    "As an example, let us use the command `echo` to print out a statement to `stdout`"
   ]
  },
  {
   "cell_type": "code",
   "execution_count": null,
   "metadata": {
    "collapsed": false,
    "jupyter": {
     "outputs_hidden": false
    }
   },
   "outputs": [],
   "source": [
    "echo \"I love this workshop\""
   ]
  },
  {
   "cell_type": "markdown",
   "metadata": {},
   "source": [
    "In this case, there was no error, so no `stderr` output was generated"
   ]
  },
  {
   "cell_type": "markdown",
   "metadata": {},
   "source": [
    "Now, this `stdout` can be:\n",
    "\n",
    "1. Redirected to a file to save the output\n",
    "2. Passed on to another program\n",
    "\n",
    "Let us try (1), which is directing the output of the echo command to a file. We do this using the `>` operator."
   ]
  },
  {
   "cell_type": "code",
   "execution_count": null,
   "metadata": {
    "collapsed": false,
    "jupyter": {
     "outputs_hidden": false
    }
   },
   "outputs": [],
   "source": [
    "echo \"I love this workshop\" > myfile.txt"
   ]
  },
  {
   "cell_type": "code",
   "execution_count": null,
   "metadata": {
    "collapsed": false,
    "jupyter": {
     "outputs_hidden": false
    }
   },
   "outputs": [],
   "source": [
    "ls -l"
   ]
  },
  {
   "cell_type": "markdown",
   "metadata": {},
   "source": [
    "We can take a look at the contents of a file by using the command `cat`"
   ]
  },
  {
   "cell_type": "code",
   "execution_count": null,
   "metadata": {
    "collapsed": false,
    "jupyter": {
     "outputs_hidden": false
    }
   },
   "outputs": [],
   "source": [
    "cat myfile.txt"
   ]
  },
  {
   "cell_type": "markdown",
   "metadata": {},
   "source": [
    "Now, let us see (2), which is passing the `stdout` to another program.\n",
    "\n",
    "We will first use the command `wc` to count the number of characters in the `myfile.txt`. We use the option `-c` to display the number of character (instead of lines/words)"
   ]
  },
  {
   "cell_type": "code",
   "execution_count": null,
   "metadata": {
    "collapsed": false,
    "jupyter": {
     "outputs_hidden": false
    }
   },
   "outputs": [],
   "source": [
    "wc -c myfile.txt"
   ]
  },
  {
   "cell_type": "markdown",
   "metadata": {},
   "source": [
    "Here, we see that we have 21 characters.\n",
    "\n",
    "We can repeat the same process of counting the number of characters generate from the echo command directly, without first saving it into a file.\n",
    "\n",
    "To do this, we will use the `|` pipe operator which passes the `stdout` of a program to the next program."
   ]
  },
  {
   "cell_type": "code",
   "execution_count": null,
   "metadata": {
    "collapsed": false,
    "jupyter": {
     "outputs_hidden": false
    }
   },
   "outputs": [],
   "source": [
    "echo \"I love this workshop\" | wc -c"
   ]
  },
  {
   "cell_type": "markdown",
   "metadata": {},
   "source": [
    "## Paths and Running Programs\n",
    "\n",
    "We used a few commands like `wc` and `echo` which refer to programs that provide the word count and echo functions.\n",
    "\n",
    "For Linux to execute a command it needs to know where to find them. Let us take a look at the location of the commands we used by using the command `which`"
   ]
  },
  {
   "cell_type": "code",
   "execution_count": null,
   "metadata": {
    "collapsed": false,
    "jupyter": {
     "outputs_hidden": false
    }
   },
   "outputs": [],
   "source": [
    "which echo"
   ]
  },
  {
   "cell_type": "code",
   "execution_count": null,
   "metadata": {
    "collapsed": false,
    "jupyter": {
     "outputs_hidden": false
    }
   },
   "outputs": [],
   "source": [
    "which wc"
   ]
  },
  {
   "cell_type": "markdown",
   "metadata": {},
   "source": [
    "We can see that both commands reside in the `/bin` directory. In Linux, the paths can be set in an environmental variable called `PATH`.\n",
    "\n",
    "We can talk a look at PATH by using the command `echo`. Note in this case here, when we refer to a variable, we need to use the `$` prefix."
   ]
  },
  {
   "cell_type": "code",
   "execution_count": null,
   "metadata": {
    "collapsed": false,
    "jupyter": {
     "outputs_hidden": false
    }
   },
   "outputs": [],
   "source": [
    "echo $PATH"
   ]
  },
  {
   "cell_type": "markdown",
   "metadata": {},
   "source": [
    "Let's now take a look at a small program `welcome.sh` in our current directory"
   ]
  },
  {
   "cell_type": "code",
   "execution_count": null,
   "metadata": {
    "collapsed": false,
    "jupyter": {
     "outputs_hidden": false
    }
   },
   "outputs": [],
   "source": [
    "ls -l"
   ]
  },
  {
   "cell_type": "markdown",
   "metadata": {},
   "source": [
    "Try running the program"
   ]
  },
  {
   "cell_type": "code",
   "execution_count": null,
   "metadata": {
    "collapsed": false,
    "jupyter": {
     "outputs_hidden": false
    }
   },
   "outputs": [],
   "source": [
    "welcome.sh"
   ]
  },
  {
   "cell_type": "markdown",
   "metadata": {},
   "source": [
    "The program can't be found because it is not in the `PATH` variable. We can however, specify the current directory when running the program."
   ]
  },
  {
   "cell_type": "code",
   "execution_count": null,
   "metadata": {
    "collapsed": false,
    "jupyter": {
     "outputs_hidden": false
    }
   },
   "outputs": [],
   "source": [
    "./welcome.sh"
   ]
  },
  {
   "cell_type": "markdown",
   "metadata": {},
   "source": [
    "Now, let us try running the command `bwa`, a commonly used alignment program for DNA sequences."
   ]
  },
  {
   "cell_type": "code",
   "execution_count": null,
   "metadata": {
    "collapsed": false,
    "jupyter": {
     "outputs_hidden": false
    }
   },
   "outputs": [],
   "source": [
    "bwa"
   ]
  },
  {
   "cell_type": "markdown",
   "metadata": {},
   "source": [
    "Let's take a look where the `bwa` program resides"
   ]
  },
  {
   "cell_type": "code",
   "execution_count": null,
   "metadata": {},
   "outputs": [],
   "source": [
    "which bwa"
   ]
  },
  {
   "cell_type": "markdown",
   "metadata": {},
   "source": [
    "We confirm that `bwa` is in the `PATH` variable"
   ]
  },
  {
   "cell_type": "code",
   "execution_count": null,
   "metadata": {},
   "outputs": [],
   "source": [
    "echo $PATH"
   ]
  }
 ],
 "metadata": {
  "kernelspec": {
   "display_name": "Bash",
   "language": "bash",
   "name": "bash"
  },
  "language_info": {
   "codemirror_mode": "shell",
   "file_extension": ".sh",
   "mimetype": "text/x-sh",
   "name": "bash"
  }
 },
 "nbformat": 4,
 "nbformat_minor": 4
}
